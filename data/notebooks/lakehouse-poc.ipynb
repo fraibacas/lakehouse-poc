{
 "cells": [
  {
   "cell_type": "code",
   "execution_count": null,
   "id": "7971ab22-c1c3-457a-9e62-5df944a32818",
   "metadata": {},
   "outputs": [],
   "source": [
    "### Create Iceberg namespace"
   ]
  },
  {
   "cell_type": "code",
   "execution_count": null,
   "id": "3dad4747-fad4-454b-9f2d-8adbcbfc9d28",
   "metadata": {},
   "outputs": [],
   "source": [
    "import os\n",
    "\n",
    "CATALOG_NAME = os.getenv(\"CATALOG_NAME\", \"lakehouse-poc\")\n",
    "LAKEHOUSE_DATA_PATH = os.getenv(\"LAKEHOUSE_DATA_PATH\", \"/lakehouse-poc\")"
   ]
  },
  {
   "cell_type": "code",
   "execution_count": null,
   "id": "23f694c1-b8e1-4250-854e-7c966182a379",
   "metadata": {},
   "outputs": [],
   "source": [
    "from pyiceberg.catalog import load_catalog\n",
    "from pyiceberg.table import Table\n",
    "from pyiceberg.schema import Schema\n",
    "from pyiceberg.types import DoubleType, StringType, TimestampType, NestedField, IntegerType, BooleanType, LongType\n",
    "from pyiceberg.partitioning import PartitionSpec, PartitionField\n",
    "from pyiceberg.transforms import YearTransform, MonthTransform, DayTransform, IdentityTransform\n",
    "from pyiceberg.table.sorting import SortOrder, SortField\n",
    "\n",
    "catalog = load_catalog(name=CATALOG_NAME)\n",
    "NAMESPACE = \"jupyter\"\n",
    "TABLE_NAME = \"nyc_taxi_yellow_tripdata\"\n",
    "FULL_TABLE_NAME = f\"{NAMESPACE}.{TABLE_NAME}\"\n",
    "\n",
    "def create_namespace(ns):\n",
    "    current_namespaces = { x[0] for x in catalog.list_namespaces() }\n",
    "    if ns in current_namespaces:\n",
    "        print(f\"namespace {ns} exists. Clearing data...\")\n",
    "        for table in catalog.list_tables(namespace=ns):\n",
    "            catalog.drop_table(table)\n",
    "        catalog.drop_namespace(namespace=ns)\n",
    "    catalog.create_namespace(\n",
    "        namespace=ns,\n",
    "        properties=dict(customer_name=ns, owner=\"blahblah@lakehouse.com\")\n",
    "    )\n",
    "    print(f\"database created for namespace <{ns}>\")\n",
    "create_namespace(NAMESPACE)"
   ]
  },
  {
   "cell_type": "markdown",
   "id": "5a8f8244-cdc2-40cf-97a9-545d01ab311f",
   "metadata": {},
   "source": [
    "### Create Iceberg table"
   ]
  },
  {
   "cell_type": "code",
   "execution_count": null,
   "id": "81a9cef1-0eb8-4de9-951e-75fbfb326974",
   "metadata": {},
   "outputs": [],
   "source": [
    "columns = [\n",
    "    (\"VendorID\", IntegerType()),\n",
    "    (\"tpep_pickup_datetime\", TimestampType()),\n",
    "    (\"tpep_dropoff_datetime\", TimestampType()),\n",
    "    (\"passenger_count\", LongType()),\n",
    "    (\"trip_distance\", DoubleType()),\n",
    "    (\"RatecodeID\", LongType()),\n",
    "    (\"store_and_fwd_flag\", StringType()),\n",
    "    (\"PULocationID\", IntegerType()),\n",
    "    (\"DOLocationID\", IntegerType()),\n",
    "    (\"payment_type\", LongType()),\n",
    "    (\"fare_amount\", DoubleType()),\n",
    "    (\"extra\", DoubleType()),\n",
    "    (\"mta_tax\", DoubleType()),\n",
    "    (\"tip_amount\", DoubleType()),\n",
    "    (\"tolls_amount\", DoubleType()),\n",
    "    (\"improvement_surcharge\", DoubleType()),\n",
    "    (\"total_amount\", DoubleType()),\n",
    "    (\"congestion_surcharge\", DoubleType()),\n",
    "    (\"Airport_fee\", DoubleType()),\n",
    "]\n",
    "iceberg_fields = []\n",
    "for index, column_tuple in enumerate(columns):\n",
    "    name, field_type = column_tuple\n",
    "    iceberg_fields.append(\n",
    "         NestedField(field_id=index+1, name=name, field_type=field_type, required=False)\n",
    "    )\n",
    "iceberg_schema = Schema(*iceberg_fields)\n",
    "\n",
    "# partition tpep_pickup_datetime by day\n",
    "partition_spec = PartitionSpec(\n",
    "    PartitionField(field_id=2, source_id=2, transform=DayTransform(), name=\"day\"),\n",
    ")\n",
    "\n",
    "# Create the table\n",
    "table = catalog.create_table(\n",
    "    identifier=FULL_TABLE_NAME,\n",
    "    location=f\"s3a://warehouse/{NAMESPACE}\",\n",
    "    schema=iceberg_schema\n",
    ")"
   ]
  },
  {
   "cell_type": "markdown",
   "id": "d871e9d7-4930-4ab2-9630-cd593a320caf",
   "metadata": {},
   "source": [
    "### Validate namespace and table have been created with pyiceberg"
   ]
  },
  {
   "cell_type": "code",
   "execution_count": null,
   "id": "d2813aa9-bca0-4b58-8899-11d92f072ff9",
   "metadata": {},
   "outputs": [],
   "source": [
    "from pyiceberg.catalog import load_catalog\n",
    "catalog=load_catalog()\n",
    "ns_names = {x[0] for x in catalog.list_namespaces() }\n",
    "assert NAMESPACE in ns_names\n",
    "table_names = { x[1] for x in catalog.list_tables(NAMESPACE) }\n",
    "assert TABLE_NAME in table_names"
   ]
  },
  {
   "cell_type": "markdown",
   "id": "3f853197-5476-4769-a3c9-99cc41a85b27",
   "metadata": {},
   "source": [
    "### Load data using duckdb"
   ]
  },
  {
   "cell_type": "code",
   "execution_count": null,
   "id": "bfee3716-6951-4c33-a1be-fd1ded8f1de1",
   "metadata": {},
   "outputs": [],
   "source": [
    "import duckdb\n",
    "\n",
    "data_file=f\"{LAKEHOUSE_DATA_PATH}/datasets/yellow_tripdata_2024-01.parquet\"\n",
    "\n",
    "duckdb_data = duckdb.read_parquet(\n",
    "    data_file\n",
    ")\n",
    "arrow_table = duckdb_data.to_arrow_table()"
   ]
  },
  {
   "cell_type": "markdown",
   "id": "ac92802b-1f55-4845-942f-f6e7c25d735f",
   "metadata": {},
   "source": [
    "### Save data into Iceberg table"
   ]
  },
  {
   "cell_type": "code",
   "execution_count": null,
   "id": "d278780d-2e45-4643-bd05-81518758a78c",
   "metadata": {},
   "outputs": [],
   "source": [
    "table.append(arrow_table)"
   ]
  },
  {
   "cell_type": "markdown",
   "id": "9f85c64a-4485-4f50-a94d-7d1173dd7e45",
   "metadata": {},
   "source": [
    "### Query ingested data with Trino client"
   ]
  },
  {
   "cell_type": "code",
   "execution_count": null,
   "id": "b9c5f7aa-6209-4a3c-925e-bb939a1bc5c0",
   "metadata": {},
   "outputs": [],
   "source": [
    "from trino.dbapi import connect\n",
    "conn = connect(\n",
    "    host=\"trino\",\n",
    "    port=8080,\n",
    "    user=\"yooo\",\n",
    "    catalog=CATALOG_NAME,\n",
    "    schema=NAMESPACE,\n",
    ")\n",
    "cur = conn.cursor()\n",
    "# Get row count\n",
    "cur.execute(f\"SELECT COUNT(*) FROM {FULL_TABLE_NAME}\")\n",
    "row_count = cur.fetchall()[0][0]\n",
    "assert row_count == 2964624\n",
    "cur.execute(f\"SELECT COUNT(*) FROM {FULL_TABLE_NAME}\")\n",
    "# Get trips from jan second between midnight and 00:30\n",
    "query = f\"\"\"\n",
    "SELECT * FROM {FULL_TABLE_NAME} \n",
    "WHERE tpep_pickup_datetime >= parse_datetime('2024-01-02 00:00:00', 'YYYY-MM-dd HH:mm:ss') AND\n",
    "      tpep_pickup_datetime <= parse_datetime('2024-01-02 00:30:00', 'YYYY-MM-dd HH:mm:ss')\n",
    "\"\"\"\n",
    "cur.execute(query)\n",
    "rows = cur.fetchall()\n",
    "assert len(rows) == 523\n",
    "# Get trip count jan first between midnight and 00:30\n",
    "query = f\"\"\"\n",
    "SELECT COUNT(*) FROM {FULL_TABLE_NAME} \n",
    "WHERE tpep_pickup_datetime >= parse_datetime('2024-01-01 00:00:00', 'YYYY-MM-dd HH:mm:ss') AND\n",
    "      tpep_pickup_datetime <= parse_datetime('2024-01-01 00:30:00', 'YYYY-MM-dd HH:mm:ss')\n",
    "\"\"\"\n",
    "cur.execute(query)\n",
    "row_count = cur.fetchall()[0][0]\n",
    "assert row_count == 2717"
   ]
  },
  {
   "cell_type": "markdown",
   "id": "f7a040c1-5b04-4efb-ac03-3e40f3e84d51",
   "metadata": {},
   "source": [
    "### Query ingested data with pyiceberg"
   ]
  },
  {
   "cell_type": "code",
   "execution_count": null,
   "id": "be1af78e-674c-48ab-996e-ee1de4d5bc84",
   "metadata": {},
   "outputs": [],
   "source": [
    "from pyiceberg.expressions import EqualTo\n",
    "scan=table.scan(\n",
    "    row_filter=EqualTo(\"Airport_fee\", 0),\n",
    "    limit=100,\n",
    ").to_arrow()\n",
    "assert len(scan) == 100"
   ]
  },
  {
   "cell_type": "markdown",
   "id": "8b50b5b8-3971-4dc5-bbce-f51fb98b0583",
   "metadata": {},
   "source": [
    "### Query ingested data with pyiceberg and duckdb"
   ]
  },
  {
   "cell_type": "code",
   "execution_count": null,
   "id": "8cbac0f1-a818-407c-8d93-e96b65902d84",
   "metadata": {},
   "outputs": [],
   "source": [
    "con = table.scan().to_duckdb(table_name=\"nyc_taxi_trips\")\n",
    "df = con.execute(f\"SELECT vendorid FROM nyc_taxi_trips\").df()\n",
    "assert len(df) == 2964624\n",
    "df = con.execute(\"SELECT Max(tip_amount) FROM nyc_taxi_trips\").df()\n",
    "assert df.to_dict()[\"max(tip_amount)\"][0] == 428.0"
   ]
  }
 ],
 "metadata": {
  "kernelspec": {
   "display_name": "Python 3 (ipykernel)",
   "language": "python",
   "name": "python3"
  },
  "language_info": {
   "codemirror_mode": {
    "name": "ipython",
    "version": 3
   },
   "file_extension": ".py",
   "mimetype": "text/x-python",
   "name": "python",
   "nbconvert_exporter": "python",
   "pygments_lexer": "ipython3",
   "version": "3.11.8"
  }
 },
 "nbformat": 4,
 "nbformat_minor": 5
}
